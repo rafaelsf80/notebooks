{
  "cells": [
    {
      "cell_type": "markdown",
      "metadata": {},
      "source": [
        "# Transfer Google Drive to GCS in Colab\n",
        "> Transfer files from Google Drive to GCS in Colab\n",
        "\n",
        "\n",
        "- toc: true \n",
        "- badges: true \n",
        "- comments: true\n",
        "- categories: [drive, gcs]\n",
        "- image: images/chart-preview.png"
      ]
    },
    {
      "cell_type": "code",
      "metadata": {
        "id": "bu_T6ie5n_jL",
        "colab_type": "code",
        "colab": {}
      },
      "source": [
        "from google.colab import drive\n"
      ],
      "execution_count": null,
      "outputs": []
    },
    {
      "cell_type": "code",
      "metadata": {
        "id": "U5c4iMZPoHbJ",
        "colab_type": "code",
        "colab": {}
      },
      "source": [
        "drive.mount('/content/drive')"
      ],
      "execution_count": null,
      "outputs": []
    },
    {
      "cell_type": "code",
      "metadata": {
        "id": "t61E3raVogdF",
        "colab_type": "code",
        "colab": {}
      },
      "source": [
        "project_id = <YOUR_PROJECT_ID>"
      ],
      "execution_count": null,
      "outputs": []
    },
    {
      "cell_type": "code",
      "metadata": {
        "id": "wJGkpuOuopio",
        "colab_type": "code",
        "colab": {
          "base_uri": "https://localhost:8080/",
          "height": 119
        },
        "outputId": "90b3600f-7e25-4bbc-aa75-3dd9c6584b35"
      },
      "source": [
        "!gcloud config set project $project_id"
      ],
      "execution_count": null,
      "outputs": []
    },
    {
      "cell_type": "code",
      "metadata": {
        "id": "j_vxzARPo7tl",
        "colab_type": "code",
        "colab": {
          "base_uri": "https://localhost:8080/",
          "height": 34
        },
        "outputId": "82bb8c88-2fad-499c-f485-988877cfd6e2"
      },
      "source": [
        "!gsutil ls"
      ],
      "execution_count": null,
      "outputs": []
    },
    {
      "cell_type": "code",
      "metadata": {
        "id": "rqX1ltt5o9BM",
        "colab_type": "code",
        "colab": {
          "base_uri": "https://localhost:8080/",
          "height": 259
        },
        "outputId": "73df41ae-de91-4c5a-d121-175f0435e3fa"
      },
      "source": [
        "!gcloud auth login"
      ],
      "execution_count": null,
      "outputs": []
    },
    {
      "cell_type": "code",
      "metadata": {
        "id": "C_PyLv3XpDQg",
        "colab_type": "code",
        "colab": {
          "base_uri": "https://localhost:8080/",
          "height": 119
        },
        "outputId": "43f1471d-b8bd-4103-c908-1e3dd9a1f2d9"
      },
      "source": [
        "!gsutil ls"
      ],
      "execution_count": null,
      "outputs": []
    },
    {
      "cell_type": "code",
      "metadata": {
        "id": "5rcaIPcGpeqK",
        "colab_type": "code",
        "colab": {
          "base_uri": "https://localhost:8080/",
          "height": 34
        },
        "outputId": "7b81a49b-2045-43a0-99ba-69dd5b90b703"
      },
      "source": [
        "!gsutil -m cp -r /content/drive/My\\ Drive/a/06/* gs://BUCKET_NAME/06/"
      ],
      "execution_count": null,
      "outputs": []
    },
    {
      "cell_type": "code",
      "metadata": {
        "id": "1oVidXqrqM2I",
        "colab_type": "code",
        "colab": {}
      },
      "source": [
        ""
      ],
      "execution_count": null,
      "outputs": []
    }
  ],
  "metadata": {
    "colab": {
      "name": "Transfer-Drive2GCS.ipynb",
      "provenance": []
    },
    "kernelspec": {
      "name": "python37464bit9829f533b6464ddcb0cd6db91167e909",
      "display_name": "Python 3.7.4 64-bit"
    }
  },
  "nbformat": 4,
  "nbformat_minor": 0
}