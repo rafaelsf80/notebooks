{
  "cells": [
    {
      "cell_type": "markdown",
      "metadata": {
        "colab_type": "text",
        "id": "AftvNA5VMemJ"
      },
      "source": [
        "# \"Federated Learning: ejemplo sencillo\"\n",
        "> Ejemplo sencillo de Federated Learning con TFF usando MNIST.\n",
        "\n",
        "\n",
        "- toc: true \n",
        "- badges: true \n",
        "- comments: true\n",
        "- categories: [\"Computer Vision\"]\n",
        "- image: images/tensorflow.png"
      ]
    },
    {
      "source": [
        "## 1. Introducción\n",
        "\n",
        "Este tutorial usa el dataset de MNIST con el API de alto nivel de TFF, llamado **FL API** (Federated Layer API) cuya clase principal es  `tff.learning`, la cual incluye interfaces de alto nivel para tareas típicas de federación como entrenamiento y otras.\n",
        "\n",
        "Existe otra API de más bajo nivel, **FC API** (Federated Core API), que permite implementar tus propios algoritmos de federación."
      ],
      "cell_type": "markdown",
      "metadata": {}
    },
    {
      "source": [
        "## 2. Setup\n",
        "\n",
        "Instalamos versiones concretas de TF y TFF, que deben ser compatibles entre ellas. Ver [tabla](https://github.com/tensorflow/federated#compatibility)"
      ],
      "cell_type": "markdown",
      "metadata": {}
    },
    {
      "cell_type": "code",
      "execution_count": null,
      "metadata": {},
      "outputs": [],
      "source": [
        "!pip install --quiet --upgrade tensorflow_federated==0.17\n",
        "!pip install --quiet --upgrade tensorflow==2.3.0\n",
        "\n",
        "import tensorflow as tf\n",
        "import tensorflow_federated as tff\n",
        "\n",
        "print(tf.__version__)\n",
        "print(tff.__version__)"
      ]
    },
    {
      "source": [
        "La instalación del paquete `nest_asyncio` evita errores de ejecución en los protocolos de federación en Jupyter (del tipo *\"can not join a run while another loop is running\"*):"
      ],
      "cell_type": "markdown",
      "metadata": {}
    },
    {
      "cell_type": "code",
      "execution_count": null,
      "metadata": {
        "cellView": "form",
        "colab": {},
        "colab_type": "code",
        "id": "p8SrVqkmnDQv"
      },
      "outputs": [],
      "source": [
        "import nest_asyncio\n",
        "nest_asyncio.apply()"
      ]
    },
    {
      "cell_type": "markdown",
      "metadata": {
        "colab_type": "text",
        "id": "Zs2LgZBOMt4M"
      },
      "source": [
        "## 3. Carga de datos\n",
        "\n",
        "Cargamos los datos. TFF ya tiene una clase para cargar datos y poder separarla en clientes.\n",
        "El dataset que devuelve `load_data()` son instancias de `tff.simulation.ClientData`, un interfaz que permite escoger un conjunto de clientes, para posteriormente construir un `tf.data.Dataset` que represente los datos de un cliente, y así poder entrenar.\n",
        "\n",
        "Nótese que este interfaz permite iterar sobre ID de clientes, pero en este tutorial sólo los estamos simulando. Los ID de clientes no se usan en el algoritmo de federación, sólo se usan para escoger los datos de cada cliente."
      ]
    },
    {
      "cell_type": "code",
      "execution_count": null,
      "metadata": {},
      "outputs": [],
      "source": [
        "# Load simulation data.\n",
        "source, _ = tff.simulation.datasets.emnist.load_data()\n",
        "def client_data(n):\n",
        "  return source.create_tf_dataset_for_client(source.client_ids[n]).map(\n",
        "      lambda e: (tf.reshape(e['pixels'], [-1]), e['label'])\n",
        "  ).repeat(10).batch(20)\n",
        "\n",
        "len(source.client_ids)"
      ]
    },
    {
      "cell_type": "markdown",
      "metadata": {
        "colab_type": "text",
        "id": "MnUwFbCAKB2r"
      },
      "source": [
        "Seleccionamos unos cuantos clientes que participarán en el entrenamiento:"
      ]
    },
    {
      "cell_type": "code",
      "execution_count": null,
      "metadata": {
        "colab": {},
        "colab_type": "code",
        "id": "ZrGitA_KnRO0"
      },
      "outputs": [],
      "source": [
        "# Pick a subset of client devices to participate in training.\n",
        "train_data = [client_data(n) for n in range(3)]\n",
        "source.element_type_structure"
      ]
    },
    {
      "cell_type": "markdown",
      "metadata": {
        "colab_type": "text",
        "id": "5Cyy2AWbLMKj"
      },
      "source": [
        "## 4. Construcción del modelo\n",
        "\n",
        "Usamos un modelo estándar de Keras, el cual debe paquetizarse dentro de la clase `tff.learning`.\n",
        "Se usará la llamada `tff.learning.from_keras_model`, pasándole el modelo Keras original y los datos.\n",
        "\n",
        "**Nota:** no hay que compilar ahora. Las métricas, pérdidas y optimizadores se configuran más tarde."
      ]
    },
    {
      "cell_type": "code",
      "execution_count": null,
      "metadata": {
        "colab": {
          "height": 34
        },
        "colab_type": "code",
        "executionInfo": {
          "elapsed": 10699,
          "status": "ok",
          "timestamp": 1596576676123,
          "user": {
            "displayName": "",
            "photoUrl": "",
            "userId": ""
          },
          "user_tz": 420
        },
        "id": "8BKyHkMxKHfV",
        "outputId": "d99a246f-f6e6-46c6-806e-74f9f16ae59b"
      },
      "outputs": [],
      "source": [
        "# Wrap a Keras model for use with TFF.\n",
        "def model_fn():\n",
        "  model = tf.keras.models.Sequential([\n",
        "      tf.keras.layers.Dense(10, tf.nn.softmax, input_shape=(784,),\n",
        "                            kernel_initializer='zeros')\n",
        "  ])\n",
        "  return tff.learning.from_keras_model(\n",
        "      model,\n",
        "      input_spec=train_data[0].element_spec,\n",
        "      loss=tf.keras.losses.SparseCategoricalCrossentropy(),\n",
        "      metrics=[tf.keras.metrics.SparseCategoricalAccuracy()])\n"
      ]
    },
    {
      "cell_type": "markdown",
      "metadata": {
        "colab_type": "text",
        "id": "yeX8BKgPfeFw"
      },
      "source": [
        "## 5. Simulación y evaluación\n",
        "\n",
        "Ahora que tenemos el modelo empaquetado en una clase `tff.learning.Model` para usarlo en TFF, podemos ejecutar\n",
        "al algoritmo **Federated Averaging** usando la función `tff.learning.build_federated_averaging_process`.\n",
        "\n",
        "El argumento debe ser un constructor (como la `model_fn` de arriba), no una instancia, para que la construcción y compilado del modelo\n",
        "lo pueda implementar TFF. Los detalles técnicos están en [este tutorial](custom_federated_algorithms_1.ipynb).\n",
        "\n",
        "El algoritmo **Federated Averaging** tiene dos optimizadores:  \n",
        "1. `_client_optimizer_`: se usa para computar updates en cada cliente.  \n",
        "2. `_server_optimizer_`: aplica la media al modelo global en el servidor.\n",
        "\n",
        "Por tanto, la elección de los hiperparámeotrs de optimizador y learning rate serán distintos que los que se usan en el modelo Keras original de MNIST. Se recomienda empezar con SGD, con un learning rate pequeño."
      ]
    },
    {
      "cell_type": "code",
      "execution_count": null,
      "metadata": {
        "colab": {},
        "colab_type": "code",
        "id": "sk6mjOfycX5N"
      },
      "outputs": [],
      "source": [
        "# Simulate a few rounds of training with the selected client devices.\n",
        "trainer = tff.learning.build_federated_averaging_process(\n",
        "  model_fn,\n",
        "  client_optimizer_fn=lambda: tf.keras.optimizers.SGD(0.1))\n",
        "state = trainer.initialize()"
      ]
    },
    {
      "cell_type": "markdown",
      "metadata": {
        "colab_type": "text",
        "id": "f8FpvN2n67sm"
      },
      "source": [
        "TFF implementa el algoritmo de [Federated Averaging](https://arxiv.org/abs/1602.05629) con dos computaciones empaquetadas en la clase `tff.templates.IterativeProcess`. Estas dos computaciones son `initialize` y `next`. \n",
        "\n",
        "1. La operación `initialize` es una función, como todas las computaciones federadas.\n",
        "No usa argumentos, y devuelve un resultado: la representación del estado del proceso de Federated Averaging en el servidor.\n",
        "2. La operación `next` es una función, y representa un ciclo completo de Federated Averaging, que consiste en desplegar el estado del servidor (incluyendo el modelo inicial) a los clientes, entrenamiento en los clientes, recogida de parámetros de vuelta, y generación de un modelo nuevo en el servidor.\n",
        "\n",
        "Actualmente el algoritmo se soporta en local por ahora (se ejecuta toda en una máquina).\n",
        "\n",
        "Se puede pensar en `next` como este flujo:\n",
        "\n",
        "`SERVER_STATE, FEDERATED_DATA -> SERVER_STATE, TRAINING_METRICS`\n",
        "\n",
        "Es decir, `next` no es una función que se ejecuta en un servidor, sino que se ejecuta de manera distribuída, con un input del servidor (`SERVER_STATE`), y unas contribuciones de cada cliente con sus propios datos locales."
      ]
    },
    {
      "cell_type": "code",
      "execution_count": null,
      "metadata": {
        "colab": {
          "height": 35
        },
        "colab_type": "code",
        "executionInfo": {
          "elapsed": 30194,
          "status": "ok",
          "timestamp": 1594922738462,
          "user": {
            "displayName": "",
            "photoUrl": "",
            "userId": ""
          },
          "user_tz": 420
        },
        "id": "F3M_W9dDE6Tm",
        "outputId": "e2ad3786-0283-4df0-d3d1-ff39c98ed6a2"
      },
      "outputs": [],
      "source": [
        "for _ in range(5):\n",
        "  state, metrics = trainer.next(state, train_data)\n",
        "  print(metrics['train']['loss'])"
      ]
    },
    {
      "cell_type": "markdown",
      "metadata": {
        "colab_type": "text",
        "id": "UmhReXt9G4A5"
      },
      "source": [
        "En este tutorial, se deberían escoger clientes aleatoriamente, pero reusamos los clientes para una covergencia más rápida. Las pérdidas deberían disminuir después de cada ciclo de entrenamiento federado, mostrando que el modelo converge."
      ]
    }
  ],
  "metadata": {
    "accelerator": "GPU",
    "colab": {
      "collapsed_sections": [],
      "last_runtime": {
        "build_target": "",
        "kind": "local"
      },
      "name": "Federated_Learning_Simple.ipynb",
      "provenance": [],
      "toc_visible": true
    },
    "kernelspec": {
      "name": "Python 3.8.2 64-bit",
      "display_name": "Python 3.8.2 64-bit",
      "metadata": {
        "interpreter": {
          "hash": "31f2aee4e71d21fbe5cf8b01ff0e069b9275f58929596ceb00d14d90e3e16cd6"
        }
      }
    }
  },
  "nbformat": 4,
  "nbformat_minor": 0
}