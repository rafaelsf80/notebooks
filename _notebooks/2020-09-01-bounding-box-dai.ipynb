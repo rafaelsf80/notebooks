{
  "nbformat": 4,
  "nbformat_minor": 0,
  "metadata": {
    "kernelspec": {
      "display_name": "Python 3",
      "language": "python",
      "name": "python3"
    },
    "language_info": {
      "codemirror_mode": {
        "name": "ipython",
        "version": 3
      },
      "file_extension": ".py",
      "mimetype": "text/x-python",
      "name": "python",
      "nbconvert_exporter": "python",
      "pygments_lexer": "ipython3",
      "version": "3.7.7-final"
    },
    "colab": {
      "name": "Bounding Box DAI.ipynb",
      "provenance": [],
      "collapsed_sections": [],
      "toc_visible": true,
      "machine_shape": "hm"
    }
  },
  "cells": [
    {
      "cell_type": "markdown",
      "metadata": {
        "id": "uWlCsBP5YsVf",
        "colab_type": "text"
      },
      "source": [
        "# \"Formularios con Google Document AI\"\n",
        "> \"Análisis de documentos PDF y extracción de campos de formularios (Form parser) con Google Document AI\"\n",
        "\n",
        "- toc: true\n",
        "- badges: true\n",
        "- comments: true\n",
        "- categories: [\"Structured Data\", \"Google Cloud\"]\n",
        "- image: images/googlecloud.png\n",
        "This notebook shows you how to analyze a pdf using the Google Cloud DocumentAI API"
      ]
    },
    {
      "cell_type": "markdown",
      "metadata": {},
      "source": [
        "## 1. Introducción\n",
        "\n",
        "Este ejemplo muestra cómo analizar un formulario con el **Form Parser de Document AI** (en formato pdf) y extraer ciertas entidades, como nombre, dirección, teléfono, .... como lista en python y como cajas con coordenadas X, Y para resaltarlos en el propio pdf.\n",
        "\n",
        "Contenido original en inglés y adaptación de [aqui](https://bit.ly/docai-colab)"
      ]
    },
    {
      "cell_type": "markdown",
      "metadata": {},
      "source": [
        "## 2. Instalación"
      ]
    },
    {
      "cell_type": "code",
      "metadata": {
        "id": "mhfwP6rQYvTy",
        "colab_type": "code",
        "colab": {
          "base_uri": "https://localhost:8080/",
          "height": 1000
        },
        "outputId": "6c701b58-327f-42be-f37e-f4e74e8b7be6",
        "tags": []
      },
      "source": [
        "!pip3 install google-cloud-documentai\n",
        "!pip3 install wand\n",
        "!pip3 install pillo\n",
        "#!apt-get update\n",
        "#!apt-get install poppler-utils # for converting pdf to jpg. We'll use this for displaying the pdf later\n",
        "#!apt-get install libmagickwand-dev"
      ],
      "execution_count": null,
      "outputs": []
    },
    {
      "cell_type": "markdown",
      "metadata": {
        "id": "bdZiOFE_xHFN",
        "colab_type": "text"
      },
      "source": [
        "Hay que hacer un reset del runtime antes de continuar."
      ]
    },
    {
      "cell_type": "code",
      "metadata": {
        "id": "ekGBsxohYsVh",
        "colab_type": "code",
        "colab": {
          "base_uri": "https://localhost:8080/",
          "height": 433
        },
        "outputId": "7959a9ae-702b-4869-d03a-00f5a1f39936"
      },
      "source": [
        "from google.cloud import documentai_v1beta2 as documentai\n",
        "from wand.image import Image as WImage\n",
        "from PIL import Image, ImageDraw\n",
        "import os"
      ],
      "execution_count": null,
      "outputs": []
    },
    {
      "cell_type": "markdown",
      "metadata": {
        "id": "kVdZTDT93T8u",
        "colab_type": "text"
      },
      "source": [
        "Configuramos el proyecto en Google Cloud:"
      ]
    },
    {
      "cell_type": "code",
      "metadata": {
        "id": "y-1y-_VM0t7a",
        "colab_type": "code",
        "colab": {}
      },
      "source": [
        "# En caso de usar Colab, ejecutar lo siguiente\n",
        "from google.colab import auth\n",
        "auth.authenticate_user()"
      ],
      "execution_count": null,
      "outputs": []
    },
    {
      "cell_type": "code",
      "metadata": {
        "id": "gN_I6cNl0TxU",
        "colab_type": "code",
        "colab": {}
      },
      "source": [
        "#@title Set Project Id\n",
        "PROJECT_ID = 'PROJECT_ID'  #@param {type: \"string\"}\n",
        "PDF_URI = \"PDF_FILE_STORED_IN_GCS\" #@param {type: \"string\"}\n",
        "SERVICE_ACCOUNT_NAME=\"SERVICE_ACCOUNT_NAME\" #@param {type: \"string\"}"
      ],
      "execution_count": null,
      "outputs": []
    },
    {
      "cell_type": "markdown",
      "metadata": {
        "id": "DIeruVSS3ZNQ",
        "colab_type": "text"
      },
      "source": [
        "Al usar la libraría python de Document AI, necesitamos crear cuenta de servicio y descargar la clave:"
      ]
    },
    {
      "cell_type": "code",
      "metadata": {
        "id": "VjZKDA1X0w9o",
        "colab_type": "code",
        "colab": {
          "base_uri": "https://localhost:8080/",
          "height": 51
        },
        "outputId": "f43f8b21-5c8b-440b-94a4-05ce4e7ebd26"
      },
      "source": [
        "!gcloud config set project '{PROJECT_ID}'\n",
        "# Uncomment the following line to create a new service account\n",
        "#!gcloud iam service-accounts create {SERVICE_ACCOUNT_NAME}\n",
        "!gcloud iam service-accounts keys create ./key.json --iam-account {SERVICE_ACCOUNT_NAME}@{PROJECT_ID}.iam.gserviceaccount.com\n",
        "os.environ[\"GOOGLE_APPLICATION_CREDENTIALS\"] = \"./key.json\""
      ],
      "execution_count": null,
      "outputs": []
    },
    {
      "cell_type": "markdown",
      "metadata": {
        "id": "kZTGra7M3229",
        "colab_type": "text"
      },
      "source": [
        "Habilitar dos APIs: la de Document AI y la de Invoice AI "
      ]
    },
    {
      "cell_type": "code",
      "metadata": {
        "id": "majCSWuU3fSK",
        "colab_type": "code",
        "colab": {}
      },
      "source": [
        "!gcloud services enable documentai.googleapis.com\n",
        "!gcloud services enable invoice.googleapis.com"
      ],
      "execution_count": null,
      "outputs": []
    },
    {
      "cell_type": "code",
      "metadata": {
        "id": "i9gbXqtaYsVl",
        "colab_type": "code",
        "colab": {
          "base_uri": "https://localhost:8080/",
          "height": 35
        },
        "outputId": "9e4e0c69-2dcb-44aa-b4df-b17b79fd8c09"
      },
      "source": [
        "# Descargar el archivo\n",
        "!gsutil cp $PDF_URI ./doc.pdf"
      ],
      "execution_count": null,
      "outputs": []
    },
    {
      "cell_type": "markdown",
      "metadata": {
        "id": "RSks36b4YsVo",
        "colab_type": "text"
      },
      "source": [
        "## 3. Llamada al Form Parser de Document AI"
      ]
    },
    {
      "cell_type": "code",
      "metadata": {
        "id": "iYhLPiUeYsVo",
        "colab_type": "code",
        "colab": {}
      },
      "source": [
        "def parse_form(project_id=PROJECT_ID,\n",
        "               input_uri=PDF_URI):\n",
        "    \"\"\"Parse a form using the Document AI API\"\"\"\n",
        "\n",
        "    # Create a new Document AI client\n",
        "    client = documentai.DocumentUnderstandingServiceClient()\n",
        "\n",
        "    # Specify which cloud in GCS you'd like to analyze\n",
        "    gcs_source = documentai.types.GcsSource(uri=input_uri)\n",
        "\n",
        "    # mime_type can be application/pdf, image/tiff,\n",
        "    # and image/gif, or application/json\n",
        "    input_config = documentai.types.InputConfig(\n",
        "        gcs_source=gcs_source, mime_type='application/pdf')\n",
        "\n",
        "    # Optional: Improve form parsing results by providing \n",
        "    # key-value pair hints.\n",
        "    # For each key hint, key is text that is likely to appear in the\n",
        "    # document as a form field name (i.e. \"DOB\").\n",
        "    # Value types are optional, but can be one or more of:\n",
        "    # ADDRESS, LOCATION, ORGANIZATION, PERSON, PHONE_NUMBER, ID,\n",
        "    # NUMBER, EMAIL, PRICE, TERMS, DATE, NAME\n",
        "    key_value_pair_hints = [\n",
        "        documentai.types.KeyValuePairHint(key='Emergency Contact',\n",
        "                                          value_types=['NAME']),\n",
        "        documentai.types.KeyValuePairHint(\n",
        "            key='Referred By')\n",
        "    ]\n",
        "\n",
        "    # Setting enabled=True enables form extraction\n",
        "    form_extraction_params = documentai.types.FormExtractionParams(\n",
        "        enabled=True, key_value_pair_hints=key_value_pair_hints)\n",
        "\n",
        "    # Location can be 'us' or 'eu'\n",
        "    parent = 'projects/{}/locations/us'.format(project_id)\n",
        "    request = documentai.types.ProcessDocumentRequest(\n",
        "        parent=parent,\n",
        "        input_config=input_config,\n",
        "        form_extraction_params=form_extraction_params)\n",
        "\n",
        "    document = client.process_document(request=request)\n",
        "    \n",
        "    return document\n"
      ],
      "execution_count": null,
      "outputs": []
    },
    {
      "cell_type": "code",
      "metadata": {
        "id": "xPrcsSzQYsVq",
        "colab_type": "code",
        "colab": {}
      },
      "source": [
        "doc = parse_form(PROJECT_ID)"
      ],
      "execution_count": null,
      "outputs": []
    },
    {
      "cell_type": "markdown",
      "metadata": {
        "id": "Izg3zqO_41dq",
        "colab_type": "text"
      },
      "source": [
        "Respuesta del API:"
      ]
    },
    {
      "cell_type": "code",
      "metadata": {
        "id": "1SDX9JuZ402j",
        "colab_type": "code",
        "colab": {
          "base_uri": "https://localhost:8080/",
          "height": 34
        },
        "outputId": "8eadea22-5a52-4c92-8380-cc24542f6e79"
      },
      "source": [
        "# Número de páginas del documento\n",
        "len(doc.pages)"
      ],
      "execution_count": null,
      "outputs": []
    },
    {
      "cell_type": "code",
      "metadata": {
        "id": "UfHBF1xJ5UGQ",
        "colab_type": "code",
        "colab": {
          "base_uri": "https://localhost:8080/",
          "height": 34
        },
        "outputId": "d47ce0b6-6b32-4007-d969-e6a718f5b225"
      },
      "source": [
        "# Número de campos detectados\n",
        "len(doc.pages[0].form_fields)"
      ],
      "execution_count": null,
      "outputs": []
    },
    {
      "cell_type": "code",
      "metadata": {
        "id": "rWxnylm_5dho",
        "colab_type": "code",
        "colab": {
          "base_uri": "https://localhost:8080/",
          "height": 969
        },
        "outputId": "0b67a529-4aa0-4dad-c682-f774713390a9"
      },
      "source": [
        "# Campos en detalle\n",
        "doc.pages[0].form_fields[0]"
      ],
      "execution_count": null,
      "outputs": []
    },
    {
      "cell_type": "markdown",
      "metadata": {
        "id": "Q758cdH1YsVs",
        "colab_type": "text"
      },
      "source": [
        "## 4. Función para parsear la respuesta del API"
      ]
    },
    {
      "cell_type": "code",
      "metadata": {
        "id": "PP7SxXBHYsVs",
        "colab_type": "code",
        "colab": {}
      },
      "source": [
        "def get_text(document, el):\n",
        "    \"\"\"Doc AI identifies form fields by their offsets\n",
        "    in document text. This function converts offsets\n",
        "    to text snippets.\n",
        "    \n",
        "     Parameters:\n",
        "    doc (documentai.proto): Proto returned from docai api\n",
        "    el (documentai.entity): Single entity from the doc\n",
        "\n",
        "    Returns:\n",
        "    array of {\"x\": float, \"y\": float} bounding box of the entity\n",
        "    \"\"\"\n",
        "    response = ''\n",
        "    # If a text segment spans several lines, it will\n",
        "    # be stored in different text segments.\n",
        "    for segment in el.text_anchor.text_segments:\n",
        "        start_index = segment.start_index\n",
        "        end_index = segment.end_index\n",
        "        response += document.text[start_index:end_index]\n",
        "    return response"
      ],
      "execution_count": null,
      "outputs": []
    },
    {
      "cell_type": "code",
      "metadata": {
        "id": "dCZsWEzx-EJe",
        "colab_type": "code",
        "colab": {
          "base_uri": "https://localhost:8080/",
          "height": 340
        },
        "outputId": "12ca4cdc-d006-48a8-fcf7-96def923b827"
      },
      "source": [
        "# Form fields are given as character offsets in text:\n",
        "#  text_anchor {\n",
        "#     text_segments {\n",
        "#       start_index: 325\n",
        "#       end_index: 327\n",
        "#     }\n",
        "#   }\n",
        "# To convert text offsets to actual words, we'll use the helper function get_text\n",
        "\n",
        "for form_field in doc.pages[0].form_fields:\n",
        "  field_name = get_text(doc, form_field.field_name).strip()\n",
        "  field_value = get_text(doc, form_field.field_value).strip()\n",
        "  print(f\"{field_name}\\t{field_value}\")"
      ],
      "execution_count": null,
      "outputs": []
    },
    {
      "cell_type": "markdown",
      "metadata": {
        "id": "ihxxH2DQYsVu",
        "colab_type": "text"
      },
      "source": [
        "## 5. Impresión de resultados\n",
        "Descargamos el archivo y convertimos a jpg, para dibujar las cajas."
      ]
    },
    {
      "cell_type": "code",
      "metadata": {
        "id": "u2mUhu4oYsVv",
        "colab_type": "code",
        "colab": {}
      },
      "source": [
        "!pdfimages -j doc.pdf doc"
      ],
      "execution_count": null,
      "outputs": []
    },
    {
      "cell_type": "markdown",
      "metadata": {
        "id": "DkyTuGnTYsVx",
        "colab_type": "text"
      },
      "source": [
        "Imprimimos entidades y dibujamos las cajas alrededor:"
      ]
    },
    {
      "cell_type": "code",
      "metadata": {
        "id": "xcwr5i62YsVz",
        "colab_type": "code",
        "colab": {}
      },
      "source": [
        "im = Image.open('doc-000.jpg')\n",
        "draw = ImageDraw.Draw(im)\n",
        "for form_field in doc.pages[0].form_fields:\n",
        "    # Draw the bounding box around the form_fields\n",
        "    # Forst get the co-ords of the field name\n",
        "    vertices = []\n",
        "    for vertex in form_field.field_name.bounding_poly.normalized_vertices:\n",
        "      vertices.append({'x': vertex.x * im.size[0], 'y': vertex.y * im.size[1]})\n",
        "    draw.polygon([\n",
        "        vertices[0]['x'], vertices[0]['y'],\n",
        "        vertices[1]['x'], vertices[1]['y'],\n",
        "        vertices[2]['x'], vertices[2]['y'],\n",
        "        vertices[3]['x'], vertices[3]['y']], outline='red')\n",
        "    \n",
        "    vertices = []\n",
        "    for vertex in form_field.field_value.bounding_poly.normalized_vertices:\n",
        "        vertices.append({'x': vertex.x * im.size[0], 'y': vertex.y * im.size[1]})\n",
        "    draw.polygon([\n",
        "        vertices[0]['x'], vertices[0]['y'],\n",
        "        vertices[1]['x'], vertices[1]['y'],\n",
        "        vertices[2]['x'], vertices[2]['y'],\n",
        "        vertices[3]['x'], vertices[3]['y']], outline='blue')"
      ],
      "execution_count": null,
      "outputs": []
    },
    {
      "cell_type": "code",
      "metadata": {
        "id": "WHbmreYtYsV1",
        "colab_type": "code",
        "colab": {
          "base_uri": "https://localhost:8080/",
          "height": 1000
        },
        "outputId": "3192e63a-a5bb-4e47-a1b7-3d3662ed3deb"
      },
      "source": [
        "im"
      ],
      "execution_count": null,
      "outputs": []
    }
  ]
}