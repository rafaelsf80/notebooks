{
  "cells": [
    {
      "cell_type": "markdown",
      "metadata": {
        "id": "AkSGVSxZDrx9",
        "colab_type": "text"
      },
      "source": [
        "# Redes convolucionales: imagenes de lenguaje de signos\n",
        "> (SPANISH) Resolucion de la competicion Kaggle de lenguaje de signos \n",
        "\n",
        "\n",
        "- toc: true \n",
        "- badges: true \n",
        "- comments: true\n",
        "- categories: [tensorflow]\n",
        "- image: images/kaggle.png"
      ]
    },
    {
      "cell_type": "markdown",
      "metadata": {
        "id": "V0B8TOWwCsbM",
        "colab_type": "text"
      },
      "source": [
        "## Redes convolucionales: Lenguaje de signos\n",
        "Se resolverá la competiciónd e Kaggle sobre imágenes de lenguaje de signos (clasificación multiclase)"
      ]
    }
  ],
  "metadata": {
    "colab": {
      "name": "redes_convolucionales.ipynb",
      "provenance": [],
      "collapsed_sections": [],
      "toc_visible": true
    },
    "kernelspec": {
      "name": "python3",
      "display_name": "Python 3"
    },
    "accelerator": "GPU"
  },
  "nbformat": 4,
  "nbformat_minor": 0
}